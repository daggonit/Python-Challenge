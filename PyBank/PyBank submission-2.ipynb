{
 "cells": [
  {
   "cell_type": "code",
   "execution_count": 3,
   "id": "1b7e6b02-d232-4626-99f1-ec7a777a99f9",
   "metadata": {},
   "outputs": [
    {
     "name": "stdout",
     "output_type": "stream",
     "text": [
      "Financial Analysis\n",
      "----------------------------\n",
      "Total Months: 86\n",
      "Total: $22564198\n",
      "Average Change: $-8311.11\n",
      "Greatest Increase in Profits: Aug-16 ($1862002)\n",
      "Greatest Decrease in Profits: Feb-14 ($-1825558)\n"
     ]
    }
   ],
   "source": [
    "import os\n",
    "import csv\n",
    "\n",
    "# Define the path to the CSV file\n",
    "csvpath = os.path.join(\"Resources\", \"budget_data.csv\")\n",
    "\n",
    "# Initialize variables\n",
    "net_total = 0\n",
    "prev_profit_loss = None\n",
    "monthly_changes = []\n",
    "greatest_inc_date = ''\n",
    "greatest_dec_date = ''\n",
    "greatest_inc_chng = float('-inf')\n",
    "greatest_dec_chng = float('inf')\n",
    "row_count = 0\n",
    "\n",
    "# Open and read the CSV file\n",
    "with open(csvpath) as csvfile:\n",
    "    csvreader = csv.reader(csvfile)\n",
    "    header = next(csvreader)  # Skip the header\n",
    "\n",
    "    # Process each row in the CSV file\n",
    "    for row in csvreader:\n",
    "        row_count += 1\n",
    "        date = row[0]\n",
    "        profit_loss = int(row[1])\n",
    "        net_total += profit_loss\n",
    "        \n",
    "        if prev_profit_loss is not None:\n",
    "            monthly_change = profit_loss - prev_profit_loss\n",
    "            monthly_changes.append(monthly_change)\n",
    "            \n",
    "            # Check for greatest increase in profits\n",
    "            if monthly_change > greatest_inc_chng:\n",
    "                greatest_inc_chng = monthly_change\n",
    "                greatest_inc_date = date\n",
    "\n",
    "            # Check for greatest decrease in profits\n",
    "            if monthly_change < greatest_dec_chng:\n",
    "                greatest_dec_chng = monthly_change\n",
    "                greatest_dec_date = date\n",
    "\n",
    "        prev_profit_loss = profit_loss\n",
    "\n",
    "# Calculate the average monthly change\n",
    "if monthly_changes:\n",
    "    avg_monthly_change = sum(monthly_changes) / len(monthly_changes)\n",
    "    rounded_avg_month_chng = round(avg_monthly_change, 2)\n",
    "else:\n",
    "    rounded_avg_month_chng = 0\n",
    "    \n",
    "    # Prepare the output data\n",
    "output_lines = [\n",
    "    \"Financial Analysis\",\n",
    "    \"----------------------------\",\n",
    "    f\"Total Months: {row_count}\",\n",
    "    f\"Total: ${net_total}\",\n",
    "    f\"Average Change: ${rounded_avg_month_chng}\",\n",
    "    f\"Greatest Increase in Profits: {greatest_inc_date} (${greatest_inc_chng})\",\n",
    "    f\"Greatest Decrease in Profits: {greatest_dec_date} (${greatest_dec_chng})\"\n",
    "]\n",
    "\n",
    "# Output the results to a text file\n",
    "output_file_path = os.path.join(\"Resources\", \"financial_analysis.txt\")\n",
    "with open(output_file_path, 'w') as output_file:\n",
    "    output_file.write(\"\\n\".join(output_lines) + \"\\n\")\n",
    "\n",
    "for line in output_lines:\n",
    "    print(line)\n"
   ]
  },
  {
   "cell_type": "code",
   "execution_count": null,
   "id": "90e4a73c",
   "metadata": {},
   "outputs": [],
   "source": []
  },
  {
   "cell_type": "code",
   "execution_count": null,
   "id": "5a397c89",
   "metadata": {},
   "outputs": [],
   "source": []
  }
 ],
 "metadata": {
  "kernelspec": {
   "display_name": "Python 3 (ipykernel)",
   "language": "python",
   "name": "python3"
  },
  "language_info": {
   "codemirror_mode": {
    "name": "ipython",
    "version": 3
   },
   "file_extension": ".py",
   "mimetype": "text/x-python",
   "name": "python",
   "nbconvert_exporter": "python",
   "pygments_lexer": "ipython3",
   "version": "3.11.7"
  }
 },
 "nbformat": 4,
 "nbformat_minor": 5
}
