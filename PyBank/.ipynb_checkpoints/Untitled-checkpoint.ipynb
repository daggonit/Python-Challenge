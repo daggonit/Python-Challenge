{
 "cells": [
  {
   "cell_type": "code",
   "execution_count": 51,
   "id": "1b7e6b02-d232-4626-99f1-ec7a777a99f9",
   "metadata": {},
   "outputs": [
    {
     "name": "stdout",
     "output_type": "stream",
     "text": [
      "<_csv.reader object at 0x000002209F8103A0>\n",
      "CSV Header: ['Date', 'Profit/Losses']\n",
      "Total Months: 86\n",
      "Net Total: $22564198\n"
     ]
    }
   ],
   "source": [
    "import os\n",
    "import csv\n",
    "import pandas as pd\n",
    "#from collections import Counter\n",
    "\n",
    "Average_Change=[]\n",
    "\n",
    "row_count = 0\n",
    "total = 0\n",
    "Average_Change = 0\n",
    "yearly_change=0\n",
    "Greatest_Inc_Profits = 0\n",
    "Greatest_Dec_Profits = 0\n",
    "\n",
    "\n",
    "csvpath = os.path.join(\"..\", \"Resources\", \"budget_data.csv\")\n",
    "\n",
    "\n",
    "\n",
    "with open (csvpath) as csvfile:\n",
    "    csvreader = csv.reader(csvfile, delimiter=\",\")\n",
    "    \n",
    "    \n",
    "    print(csvreader)\n",
    "    csv_header = next(csvreader)\n",
    "    print(f\"CSV Header: {csv_header}\")\n",
    "    \n",
    "    for row in csvreader:\n",
    "        row_count +=1\n",
    "\n",
    "    print(f\"Total Months: {row_count}\")\n",
    "    \n",
    "    with open(csvpath) as csvfile:\n",
    "        csv_reader = next(csvfile)\n",
    "        \n",
    "        for row in csv.reader(csvfile):\n",
    "            total+=int(row[1])\n",
    "\n",
    "    print(f\"Net Total: ${total}\")\n",
    "\n",
    "    \n",
    "        \n",
    "        \n",
    "\n",
    "\n",
    "\n",
    "        \n",
    "    \n",
    "    #net_total = sum(int(row[1] for row in csvreader))\n",
    "    \n",
    "    #print(f\"Net Total: ${net_total}\")\n",
    "\n",
    "    \n",
    "\n",
    "#csvpath = csv.file(\"c\",\"Python-Challenge\", \"resources\", \"PyBank\", \"budget_data.csv\")\n",
    "#print (csvpath)\n",
    "\n",
    "#csvpath.head()"
   ]
  },
  {
   "cell_type": "code",
   "execution_count": null,
   "id": "4fb734ae",
   "metadata": {},
   "outputs": [],
   "source": []
  },
  {
   "cell_type": "code",
   "execution_count": 52,
   "id": "0e8980de",
   "metadata": {},
   "outputs": [
    {
     "ename": "SyntaxError",
     "evalue": "invalid syntax (84444484.py, line 1)",
     "output_type": "error",
     "traceback": [
      "\u001b[1;36m  Cell \u001b[1;32mIn[52], line 1\u001b[1;36m\u001b[0m\n\u001b[1;33m    for line\u001b[0m\n\u001b[1;37m             ^\u001b[0m\n\u001b[1;31mSyntaxError\u001b[0m\u001b[1;31m:\u001b[0m invalid syntax\n"
     ]
    }
   ],
   "source": [
    "for line "
   ]
  }
 ],
 "metadata": {
  "kernelspec": {
   "display_name": "Python 3 (ipykernel)",
   "language": "python",
   "name": "python3"
  },
  "language_info": {
   "codemirror_mode": {
    "name": "ipython",
    "version": 3
   },
   "file_extension": ".py",
   "mimetype": "text/x-python",
   "name": "python",
   "nbconvert_exporter": "python",
   "pygments_lexer": "ipython3",
   "version": "3.10.14"
  }
 },
 "nbformat": 4,
 "nbformat_minor": 5
}
