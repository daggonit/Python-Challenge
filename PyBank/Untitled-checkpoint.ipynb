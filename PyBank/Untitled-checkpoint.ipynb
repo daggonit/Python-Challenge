{
 "cells": [
  {
   "cell_type": "code",
   "execution_count": 100,
   "id": "1b7e6b02-d232-4626-99f1-ec7a777a99f9",
   "metadata": {},
   "outputs": [
    {
     "ename": "TypeError",
     "evalue": "'int' object is not iterable",
     "output_type": "error",
     "traceback": [
      "\u001b[1;31m---------------------------------------------------------------------------\u001b[0m",
      "\u001b[1;31mTypeError\u001b[0m                                 Traceback (most recent call last)",
      "Cell \u001b[1;32mIn[100], line 51\u001b[0m\n\u001b[0;32m     46\u001b[0m         Greatest_Dec_Profits_date \u001b[38;5;241m=\u001b[39m row[\u001b[38;5;241m0\u001b[39m]\n\u001b[0;32m     48\u001b[0m     prev_prof_loss \u001b[38;5;241m=\u001b[39m \u001b[38;5;28mint\u001b[39m(row[\u001b[38;5;241m1\u001b[39m])\n\u001b[1;32m---> 51\u001b[0m avg_monthly_change \u001b[38;5;241m=\u001b[39m \u001b[38;5;28;43msum\u001b[39;49m\u001b[43m(\u001b[49m\u001b[43mAverage_Change\u001b[49m\u001b[43m)\u001b[49m\u001b[38;5;241m/\u001b[39m \u001b[38;5;28mlen\u001b[39m(month_change)\n\u001b[0;32m     52\u001b[0m rounded_avg_monthly_change \u001b[38;5;241m=\u001b[39m \u001b[38;5;28mround\u001b[39m(avg_monthly_change, \u001b[38;5;241m2\u001b[39m)\n\u001b[0;32m     56\u001b[0m            \u001b[38;5;66;03m#Averaged_Change.append(float(row[1]))\u001b[39;00m\n\u001b[0;32m     57\u001b[0m \n\u001b[0;32m     58\u001b[0m             \u001b[38;5;66;03m#Average_changes = [Averaged_Change[i] - Averaged_Change[i+1] for i in range(1, len(Averaged_Change))]\u001b[39;00m\n\u001b[1;32m   (...)\u001b[0m\n\u001b[0;32m     70\u001b[0m            \u001b[38;5;66;03m##    Averaged_Change.append(Average_Change)    \u001b[39;00m\n\u001b[0;32m     71\u001b[0m             \u001b[38;5;66;03m#prev_prof_loss = int(row[1])\u001b[39;00m\n",
      "\u001b[1;31mTypeError\u001b[0m: 'int' object is not iterable"
     ]
    }
   ],
   "source": [
    "import os\n",
    "import csv\n",
    "import pandas as pd\n",
    "#from collections import Counter\n",
    "\n",
    "#Average_Change=[]\n",
    "\n",
    "row_count = 0\n",
    "total = 0\n",
    "Average_Change = 0\n",
    "month_change = []\n",
    "dates = []\n",
    "prev_prof_loss = 0\n",
    "past_profit = 0\n",
    "Greatest_Inc_Profits = 0\n",
    "Greatest_Dec_Profits = 0\n",
    "\n",
    "\n",
    "\n",
    "csvpath = os.path.join(\"..\", \"Resources\", \"budget_data.csv\")\n",
    "#data = pd.read_csv(\"..\", \"Resources\", \"budget_data.csv\")\n",
    "\n",
    "\n",
    "with open (csvpath) as csvfile:\n",
    "    csvreader = csv.reader(csvfile, delimiter=\",\")\n",
    "    csv_header = next(csvreader)\n",
    "    \n",
    "    for row in csvreader:\n",
    "        row_count +=1\n",
    "        total+=int(row[1])\n",
    "\n",
    "    \n",
    "    if row_count >1:\n",
    "        Average_Change= int(row[1])-(prev_prof_loss)\n",
    "        month_change.append(Average_Change)\n",
    "        # Average_Change= profit - past_profit\n",
    "        # month_change.append(row_count)\n",
    "        # dates.append(row[0])\n",
    "    \n",
    "    if Average_Change > Greatest_Inc_Profits:\n",
    "        Greatest_Inc_Profits = Average_Change\n",
    "        Greatest_Inc_Profits_date = row[0]\n",
    "    \n",
    "    elif Average_Change<Greatest_Dec_Profits:\n",
    "        Greatest_Dec_Profits = Average_Change\n",
    "        Greatest_Dec_Profits_date = row[0]\n",
    "\n",
    "    prev_prof_loss = int(row[1])\n",
    "\n",
    "\n",
    "avg_monthly_change = sum(Average_Change)/ len(month_change)\n",
    "rounded_avg_monthly_change = round(avg_monthly_change, 2)\n",
    "    \n",
    "    \n",
    "    \n",
    "           #Averaged_Change.append(float(row[1]))\n",
    "\n",
    "            #Average_changes = [Averaged_Change[i] - Averaged_Change[i+1] for i in range(1, len(Averaged_Change))]\n",
    "\n",
    "            #Average_monthly_Change = sum(Average_changes) / len(Average_changes)\n",
    "\n",
    "            #print(f'Average Change: {Average_Change}')\n",
    "        \n",
    "        #for row in csvreader:\n",
    "         #   row_count+=1\n",
    "          #  total+=int(row[1])\n",
    "            \n",
    "\n",
    "           # if row_count > 1:\n",
    "           ##    Averaged_Change.append(Average_Change)    \n",
    "            #prev_prof_loss = int(row[1])\n",
    "    \n",
    "print(\"Financial Analysis\")\n",
    "print(\"----------------------------\")\n",
    "print(\"Total Months: \"+ f\"{row_count}\")\n",
    "print(\"Net Total: \" f\"${total}\")\n",
    "print(\"Average_Change: \" f\"{rounded_avg_monthly_change}\")\n",
    "print(\"Greatest Inc Profits\", f\"{Greatest_Inc_Profits_date}\")\n",
    "print(\"Greatest Dec Profits\", f\"{Greatest_Dec_Profits_date}\")\n",
    "\n",
    "output_file = os.path.join('PyBank', 'Analysis', 'analysis.txt')\n",
    "with open(output_file, 'w') as txtfile:\n",
    "        results_file = csv.writer(txtfile, delimiter= ',')\n",
    "\n",
    "   \n",
    "   \n",
    "    \n",
    "        \n",
    "        \n",
    "\n",
    "\n",
    "\n",
    "        \n",
    "    \n",
    "    #net_total = sum(int(row[1] for row in csvreader))\n",
    "    \n",
    "    #print(f\"Net Total: ${net_total}\")\n",
    "\n",
    "    \n",
    "\n",
    "#csvpath = csv.file(\"c\",\"Python-Challenge\", \"resources\", \"PyBank\", \"budget_data.csv\")\n",
    "#print (csvpath)\n",
    "\n",
    "#csvpath.head()"
   ]
  },
  {
   "cell_type": "code",
   "execution_count": null,
   "id": "4fb734ae",
   "metadata": {},
   "outputs": [],
   "source": []
  },
  {
   "cell_type": "code",
   "execution_count": null,
   "id": "0e8980de",
   "metadata": {},
   "outputs": [
    {
     "ename": "SyntaxError",
     "evalue": "invalid syntax (84444484.py, line 1)",
     "output_type": "error",
     "traceback": [
      "\u001b[1;36m  Cell \u001b[1;32mIn[92], line 1\u001b[1;36m\u001b[0m\n\u001b[1;33m    for line\u001b[0m\n\u001b[1;37m             ^\u001b[0m\n\u001b[1;31mSyntaxError\u001b[0m\u001b[1;31m:\u001b[0m invalid syntax\n"
     ]
    }
   ],
   "source": [
    "for line "
   ]
  }
 ],
 "metadata": {
  "kernelspec": {
   "display_name": "Python 3 (ipykernel)",
   "language": "python",
   "name": "python3"
  },
  "language_info": {
   "codemirror_mode": {
    "name": "ipython",
    "version": 3
   },
   "file_extension": ".py",
   "mimetype": "text/x-python",
   "name": "python",
   "nbconvert_exporter": "python",
   "pygments_lexer": "ipython3",
   "version": "3.10.14"
  }
 },
 "nbformat": 4,
 "nbformat_minor": 5
}
