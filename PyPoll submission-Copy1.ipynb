{
 "cells": [
  {
   "cell_type": "code",
   "execution_count": 4,
   "id": "1669bfa3",
   "metadata": {},
   "outputs": [
    {
     "name": "stdout",
     "output_type": "stream",
     "text": [
      "Election Results\n",
      "---------------------------\n",
      "Total Votes: 369711\n",
      "---------------------------\n",
      "Charles Casper Stockham: 23.049% (85213)\n",
      "Diana DeGette: 73.812% (272892)\n",
      "Raymon Anthony Doane: 3.139% (11606)\n",
      "----------------------\n",
      "Winner: Diana DeGette\n"
     ]
    }
   ],
   "source": [
    "import os\n",
    "import csv\n",
    "\n",
    "# Initialize variables\n",
    "candidate_list = []\n",
    "cand_votes = {}\n",
    "total_votes = 0\n",
    "winner = \"\"\n",
    "winner_votes = 0\n",
    "row_count = 0\n",
    "\n",
    "# Define the path to the CSV file\n",
    "csvpath = os.path.join(\"Resources\", \"election_data.csv\")\n",
    "\n",
    "# Open and read the CSV file\n",
    "with open(csvpath) as csvfile:\n",
    "    csvreader = csv.DictReader(csvfile)\n",
    "\n",
    "    # Process each row in the CSV file\n",
    "    for row in csvreader:\n",
    "        total_votes += 1\n",
    "        cand_name = row['Candidate']\n",
    "        \n",
    "        if cand_name not in candidate_list:\n",
    "            candidate_list.append(cand_name)\n",
    "            cand_votes[cand_name] = 0\n",
    "        \n",
    "        cand_votes[cand_name] += 1\n",
    "        \n",
    "# Prepare the results\n",
    "results = []\n",
    "results.append(\"Election Results\")\n",
    "results.append(\"---------------------------\")\n",
    "results.append(f\"Total Votes: {total_votes}\")\n",
    "results.append(\"---------------------------\")\n",
    "\n",
    "for cand_name in candidate_list:\n",
    "    votes = cand_votes[cand_name]\n",
    "    percent_votes = (votes / total_votes) * 100\n",
    "    results.append(f\"{cand_name}: {percent_votes:.3f}% ({votes})\")\n",
    "    \n",
    "    if votes > winner_votes:\n",
    "        winner = cand_name\n",
    "        winner_votes = votes\n",
    "\n",
    "results.append(\"----------------------\")\n",
    "results.append(f\"Winner: {winner}\")\n",
    "\n",
    "# Output the results to a text file\n",
    "output_file_path = os.path.join(\"Resources\", \"election_results.txt\")\n",
    "with open(output_file_path, 'w') as output_file:\n",
    "    output_file.write(\"\\n\".join(results) + \"\\n\")\n",
    "\n",
    "for line in results:\n",
    "    print(line)            \n",
    "              "
   ]
  },
  {
   "cell_type": "code",
   "execution_count": null,
   "id": "395e8fbf",
   "metadata": {},
   "outputs": [],
   "source": []
  },
  {
   "cell_type": "code",
   "execution_count": null,
   "id": "d387f51e",
   "metadata": {},
   "outputs": [],
   "source": []
  }
 ],
 "metadata": {
  "kernelspec": {
   "display_name": "Python 3 (ipykernel)",
   "language": "python",
   "name": "python3"
  },
  "language_info": {
   "codemirror_mode": {
    "name": "ipython",
    "version": 3
   },
   "file_extension": ".py",
   "mimetype": "text/x-python",
   "name": "python",
   "nbconvert_exporter": "python",
   "pygments_lexer": "ipython3",
   "version": "3.11.7"
  }
 },
 "nbformat": 4,
 "nbformat_minor": 5
}
